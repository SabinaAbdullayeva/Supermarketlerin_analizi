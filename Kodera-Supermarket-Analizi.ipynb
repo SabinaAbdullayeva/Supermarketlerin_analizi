{
 "cells": [
  {
   "cell_type": "markdown",
   "metadata": {
    "jupyter": {
     "source_hidden": true
    }
   },
   "source": [
    "# Kodera - Data Analitikası praktiki tapşırıqlar\n",
    "\n",
    "Tapşırıqların çətinlik dərəcəsi asandan - çətinədir və bir çox tapşırıqlar yeni başlayanlar, \n",
    "az təcrübəsi olanlar üçün nəzərdə tutulmuşdur. Bəzi tapşırıqlar, yaxşı kodlama bacarığı ilə \n",
    "yanaşı, problemə praqmatik yanaşma tələb edir. 25 tapşırıqdan ibarət olan bu use-case i həll \n",
    "etmək üçün sizə 2019 cu il ərzində supermarketin 20 filialı üzrə alış - veriş edən 80.000 \n",
    "alıcının almış olduğu 438.826 məhsulun verilənlərini özündə ehtiva edən dataset mövcuddur.\n",
    "\n",
    "Dataseti əldə etmək üçün: https://data.world/zenijat1663/supermarket-dataset\n",
    "\n",
    "Müəllif Nicat Zeynalovdur.\n",
    "\n",
    "© 2020 Kodera. Bütün hüquqlar qorunur."
   ]
  },
  {
   "cell_type": "markdown",
   "metadata": {},
   "source": [
    "### Tapşrıq 1.\n",
    "\n",
    "Üç və daha çox məhsul alan müştərilərin neçə faizi alış veriş zamanı bonus kartdan istifadə edib?"
   ]
  },
  {
   "cell_type": "code",
   "execution_count": 14,
   "metadata": {},
   "outputs": [],
   "source": [
    "\n",
    "import pandas as pd\n",
    "import numpy as np\n",
    "import matplotlib as mpl\n",
    "import matplotlib.pyplot as plt\n",
    "import seaborn as sns\n",
    "%matplotlib inline \n",
    "#print ('Matplotlib version: ', mpl.__version__)\n",
    "mehsul=pd.read_csv(r\"C:\\Users\\HP\\Downloads\\esas_mehsullar.csv\")\n",
    "mehsul.drop(\"Unnamed: 0\",axis=1,inplace=True)\n",
    "\n",
    "\n"
   ]
  },
  {
   "cell_type": "code",
   "execution_count": 4,
   "metadata": {},
   "outputs": [
    {
     "name": "stdout",
     "output_type": "stream",
     "text": [
      "70016\n",
      "34867\n",
      "Üç və daha çox məhsul alan müştərilərin  49.798617458866545 faizi alış veriş zamanı bonus kartdan istifadə edib\n"
     ]
    }
   ],
   "source": [
    "count=0\n",
    "value=mehsul.satish_kodu.value_counts()\n",
    "value.to_frame() \n",
    "for a in value:\n",
    "    if a>2:\n",
    "        count+=1\n",
    "print(count)\n",
    "#70016from80000\n",
    "res=0\n",
    "filter=mehsul[\"bonus_kart\"]==True\n",
    "new2=mehsul[filter]\n",
    "new3=new2.satish_kodu.value_counts()\n",
    "new3.to_frame()\n",
    "for b in new3:\n",
    "    if b>2:\n",
    "        res+=1\n",
    "print(res)\n",
    "#indinecefaiziniteskiledirtapaq\n",
    "faiz=res*100/count\n",
    "print(\"Üç və daha çox məhsul alan müştərilərin \" ,faiz,\"faizi alış veriş zamanı bonus kartdan istifadə edib\")"
   ]
  },
  {
   "cell_type": "markdown",
   "metadata": {},
   "source": [
    "### Tapşrıq 2.\n",
    "\n",
    "Datasetdə bəzi yerlərdə məhsul adları yoxdur -çatışmayan verilənlər mövcuddur, zəhmət olmasa çatışmayan verilənləri ən optimal alternativlə əvəzləyərək, problem həll edin."
   ]
  },
  {
   "cell_type": "code",
   "execution_count": 15,
   "metadata": {},
   "outputs": [],
   "source": [
    "na=mehsul[mehsul[\"mehsul_ad\"].isnull()==True] #771NAva\n",
    "mehsul[\"mehsul_ad\"].fillna(0,inplace=True)\n"
   ]
  },
  {
   "cell_type": "markdown",
   "metadata": {},
   "source": [
    "### Tapşrıq 3.\n",
    "\n",
    "Hər market üzrə bir müştərinin orta hesabla neçə məhsul aldığını öyrənə bilərik mi?"
   ]
  },
  {
   "cell_type": "code",
   "execution_count": 90,
   "metadata": {},
   "outputs": [
    {
     "data": {
      "text/html": [
       "<div>\n",
       "<style scoped>\n",
       "    .dataframe tbody tr th:only-of-type {\n",
       "        vertical-align: middle;\n",
       "    }\n",
       "\n",
       "    .dataframe tbody tr th {\n",
       "        vertical-align: top;\n",
       "    }\n",
       "\n",
       "    .dataframe thead th {\n",
       "        text-align: right;\n",
       "    }\n",
       "</style>\n",
       "<table border=\"1\" class=\"dataframe\">\n",
       "  <thead>\n",
       "    <tr style=\"text-align: right;\">\n",
       "      <th></th>\n",
       "      <th></th>\n",
       "      <th>mehsul_sayi</th>\n",
       "    </tr>\n",
       "    <tr>\n",
       "      <th>magaza_ad</th>\n",
       "      <th>satish_kodu</th>\n",
       "      <th></th>\n",
       "    </tr>\n",
       "  </thead>\n",
       "  <tbody>\n",
       "    <tr>\n",
       "      <th rowspan=\"5\" valign=\"top\">20 yanvar</th>\n",
       "      <th>222436</th>\n",
       "      <td>2</td>\n",
       "    </tr>\n",
       "    <tr>\n",
       "      <th>222602</th>\n",
       "      <td>2</td>\n",
       "    </tr>\n",
       "    <tr>\n",
       "      <th>222705</th>\n",
       "      <td>3</td>\n",
       "    </tr>\n",
       "    <tr>\n",
       "      <th>223496</th>\n",
       "      <td>7</td>\n",
       "    </tr>\n",
       "    <tr>\n",
       "      <th>224087</th>\n",
       "      <td>9</td>\n",
       "    </tr>\n",
       "    <tr>\n",
       "      <th>...</th>\n",
       "      <th>...</th>\n",
       "      <td>...</td>\n",
       "    </tr>\n",
       "    <tr>\n",
       "      <th rowspan=\"5\" valign=\"top\">Əhmədli</th>\n",
       "      <th>999161</th>\n",
       "      <td>5</td>\n",
       "    </tr>\n",
       "    <tr>\n",
       "      <th>999242</th>\n",
       "      <td>7</td>\n",
       "    </tr>\n",
       "    <tr>\n",
       "      <th>999280</th>\n",
       "      <td>6</td>\n",
       "    </tr>\n",
       "    <tr>\n",
       "      <th>999580</th>\n",
       "      <td>7</td>\n",
       "    </tr>\n",
       "    <tr>\n",
       "      <th>999689</th>\n",
       "      <td>4</td>\n",
       "    </tr>\n",
       "  </tbody>\n",
       "</table>\n",
       "<p>80000 rows × 1 columns</p>\n",
       "</div>"
      ],
      "text/plain": [
       "                       mehsul_sayi\n",
       "magaza_ad satish_kodu             \n",
       "20 yanvar 222436                 2\n",
       "          222602                 2\n",
       "          222705                 3\n",
       "          223496                 7\n",
       "          224087                 9\n",
       "...                            ...\n",
       "Əhmədli   999161                 5\n",
       "          999242                 7\n",
       "          999280                 6\n",
       "          999580                 7\n",
       "          999689                 4\n",
       "\n",
       "[80000 rows x 1 columns]"
      ]
     },
     "execution_count": 90,
     "metadata": {},
     "output_type": "execute_result"
    }
   ],
   "source": [
    "mehsul.groupby([\"magaza_ad\",\"satish_kodu\"]).count()[\"mehsul_kodu\"].to_frame().rename(columns={\"mehsul_kodu\":\"mehsul_sayi\"})\n"
   ]
  },
  {
   "cell_type": "markdown",
   "metadata": {},
   "source": [
    "### Tapşrıq 4.\n",
    "\n",
    "İl ərzində ən çox satılan top 10 məhsulu və satış sayını hazırlayın."
   ]
  },
  {
   "cell_type": "code",
   "execution_count": 14,
   "metadata": {},
   "outputs": [
    {
     "data": {
      "text/plain": [
       "ATENA 1KG BEYAZ PENDIR PL/Q               180\n",
       "LIPTON 330ML ICE TEA LIMON D/Q            177\n",
       "SIRAB 0.5LT QAZSIZ SU PL/Q                171\n",
       "LIPTON 330ML ICE TEA SAFTALI D/Q          169\n",
       "FASTER 250ML ENERGY DRINK D/Q             165\n",
       "SIRAB 1.5LT SU QAZSIZ MINERAL PL/Q        160\n",
       "ETI 50GR CRAX KREKER PENDIR VE SOGANLI    145\n",
       "HES 9KG CAMASIR TOZU MATIC BAHAR          143\n",
       "NATURA 200ML MULTIMEYVE SIRESI            142\n",
       "VANISH AGARDICI 100ML                     141\n",
       "Name: mehsul_ad, dtype: int64"
      ]
     },
     "execution_count": 14,
     "metadata": {},
     "output_type": "execute_result"
    }
   ],
   "source": [
    "mehsul.mehsul_ad.value_counts().head(10)"
   ]
  },
  {
   "cell_type": "markdown",
   "metadata": {},
   "source": [
    "### Tapşrıq 5.\n",
    "\n",
    "Zəhmət olmasa, yeni dataset yaradın və bu datasetdə yalnız satış kodu və hər satış zamanı marketə edilən ödəniş mövcud olsun."
   ]
  },
  {
   "cell_type": "code",
   "execution_count": 8,
   "metadata": {},
   "outputs": [
    {
     "data": {
      "text/html": [
       "<div>\n",
       "<style scoped>\n",
       "    .dataframe tbody tr th:only-of-type {\n",
       "        vertical-align: middle;\n",
       "    }\n",
       "\n",
       "    .dataframe tbody tr th {\n",
       "        vertical-align: top;\n",
       "    }\n",
       "\n",
       "    .dataframe thead th {\n",
       "        text-align: right;\n",
       "    }\n",
       "</style>\n",
       "<table border=\"1\" class=\"dataframe\">\n",
       "  <thead>\n",
       "    <tr style=\"text-align: right;\">\n",
       "      <th></th>\n",
       "      <th>satish_kodu</th>\n",
       "      <th>odenis</th>\n",
       "    </tr>\n",
       "  </thead>\n",
       "  <tbody>\n",
       "    <tr>\n",
       "      <th>0</th>\n",
       "      <td>222224</td>\n",
       "      <td>17.37</td>\n",
       "    </tr>\n",
       "    <tr>\n",
       "      <th>1</th>\n",
       "      <td>222229</td>\n",
       "      <td>76.57</td>\n",
       "    </tr>\n",
       "    <tr>\n",
       "      <th>2</th>\n",
       "      <td>222245</td>\n",
       "      <td>34.35</td>\n",
       "    </tr>\n",
       "    <tr>\n",
       "      <th>3</th>\n",
       "      <td>222256</td>\n",
       "      <td>4.72</td>\n",
       "    </tr>\n",
       "    <tr>\n",
       "      <th>4</th>\n",
       "      <td>222258</td>\n",
       "      <td>74.90</td>\n",
       "    </tr>\n",
       "    <tr>\n",
       "      <th>...</th>\n",
       "      <td>...</td>\n",
       "      <td>...</td>\n",
       "    </tr>\n",
       "    <tr>\n",
       "      <th>79995</th>\n",
       "      <td>999935</td>\n",
       "      <td>43.43</td>\n",
       "    </tr>\n",
       "    <tr>\n",
       "      <th>79996</th>\n",
       "      <td>999958</td>\n",
       "      <td>25.09</td>\n",
       "    </tr>\n",
       "    <tr>\n",
       "      <th>79997</th>\n",
       "      <td>999971</td>\n",
       "      <td>28.39</td>\n",
       "    </tr>\n",
       "    <tr>\n",
       "      <th>79998</th>\n",
       "      <td>999973</td>\n",
       "      <td>29.80</td>\n",
       "    </tr>\n",
       "    <tr>\n",
       "      <th>79999</th>\n",
       "      <td>999984</td>\n",
       "      <td>10.67</td>\n",
       "    </tr>\n",
       "  </tbody>\n",
       "</table>\n",
       "<p>80000 rows × 2 columns</p>\n",
       "</div>"
      ],
      "text/plain": [
       "       satish_kodu  odenis\n",
       "0           222224   17.37\n",
       "1           222229   76.57\n",
       "2           222245   34.35\n",
       "3           222256    4.72\n",
       "4           222258   74.90\n",
       "...            ...     ...\n",
       "79995       999935   43.43\n",
       "79996       999958   25.09\n",
       "79997       999971   28.39\n",
       "79998       999973   29.80\n",
       "79999       999984   10.67\n",
       "\n",
       "[80000 rows x 2 columns]"
      ]
     },
     "execution_count": 8,
     "metadata": {},
     "output_type": "execute_result"
    }
   ],
   "source": [
    "newds=mehsul.groupby(\"satish_kodu\").sum()[\"mehsul_qiymet\"].reset_index().rename(columns={\"mehsul_qiymet\":\"odenis\"})\n",
    "newds"
   ]
  },
  {
   "cell_type": "markdown",
   "metadata": {},
   "source": [
    "### Tapşrıq 6.\n",
    "\n",
    "Mən datasetə göz gəzdirdim, “Sərfəli yaz” kompaniyamızda ə hərfləri əvəzinə sual işarəsi görünür. Zəhnət olmasa, bu problem həll edin."
   ]
  },
  {
   "cell_type": "code",
   "execution_count": 16,
   "metadata": {},
   "outputs": [],
   "source": [
    "mehsul[\"endirim_kompaniya\"]=mehsul[\"endirim_kompaniya\"].str.replace(u\"?\",\"ə\")\n"
   ]
  },
  {
   "cell_type": "markdown",
   "metadata": {},
   "source": [
    "### Tapşrıq 7.\n",
    "\n",
    "Xahiş edirəm, ötən il tətbiq etdiyimiz endirim kompaniyalarının hansının daha uğurlu olduğunu əks etdirən qrafik hazırlayın. Yəni, müştərilərimiz ən çox hansı kompaniyamızdan yararlanıb?"
   ]
  },
  {
   "cell_type": "code",
   "execution_count": 9,
   "metadata": {},
   "outputs": [
    {
     "data": {
      "image/png": "[encoded data removed]",
      "text/plain": [
       "<Figure size 432x288 with 1 Axes>"
      ]
     },
     "metadata": {
      "needs_background": "light"
     },
     "output_type": "display_data"
    }
   ],
   "source": [
    "table=mehsul.groupby(\"endirim_kompaniya\").sum()[\"mehsul_qiymet\"]\n",
    "table.plot(kind='bar')\n",
    "plt.title('Endirim kompaniyalarına uyğun satış gəliri',fontsize=18)\n",
    "plt.ylabel('Gəlir',fontsize=16)\n",
    "plt.xlabel('Endirim Kompaniyası',fontsize=16)\n",
    "plt.style.use('seaborn-dark-palette')\n"
   ]
  },
  {
   "cell_type": "markdown",
   "metadata": {},
   "source": [
    "### Tapşrıq 8.\n",
    "\n",
    "Bəzi alıcılar kompotların qiymətlərinin baha olduğunu bildirirlər. Zəhmət olmasa, bizdə satılan bütün kompot növlərinin qiymətini və ümumi satış sayını cədvəl şəklində hazırlayın."
   ]
  },
  {
   "cell_type": "code",
   "execution_count": 5,
   "metadata": {},
   "outputs": [
    {
     "data": {
      "text/html": [
       "<div>\n",
       "<style scoped>\n",
       "    .dataframe tbody tr th:only-of-type {\n",
       "        vertical-align: middle;\n",
       "    }\n",
       "\n",
       "    .dataframe tbody tr th {\n",
       "        vertical-align: top;\n",
       "    }\n",
       "\n",
       "    .dataframe thead th {\n",
       "        text-align: right;\n",
       "    }\n",
       "</style>\n",
       "<table border=\"1\" class=\"dataframe\">\n",
       "  <thead>\n",
       "    <tr style=\"text-align: right;\">\n",
       "      <th></th>\n",
       "      <th>mehsul_ad</th>\n",
       "      <th>mehsul_qiymet</th>\n",
       "      <th>satish_sayi</th>\n",
       "    </tr>\n",
       "  </thead>\n",
       "  <tbody>\n",
       "    <tr>\n",
       "      <th>17</th>\n",
       "      <td>BIZIM TARLA 650ML NAR SIRESI</td>\n",
       "      <td>2.50</td>\n",
       "      <td>28</td>\n",
       "    </tr>\n",
       "    <tr>\n",
       "      <th>1</th>\n",
       "      <td>BAGDAN 1LT NAR SIRESI S/Q</td>\n",
       "      <td>2.15</td>\n",
       "      <td>31</td>\n",
       "    </tr>\n",
       "    <tr>\n",
       "      <th>11</th>\n",
       "      <td>BIZIM TARLA 1LT KOMPOT 1+1 ENDIRIMLI</td>\n",
       "      <td>1.99</td>\n",
       "      <td>29</td>\n",
       "    </tr>\n",
       "    <tr>\n",
       "      <th>57</th>\n",
       "      <td>VITA 1000 1LT SAFTALI MEYVE SIRESI S/Q</td>\n",
       "      <td>1.78</td>\n",
       "      <td>26</td>\n",
       "    </tr>\n",
       "    <tr>\n",
       "      <th>0</th>\n",
       "      <td>BAGDAN 1LT MULTIMEYVE MEYVE SIRESI S/Q</td>\n",
       "      <td>1.75</td>\n",
       "      <td>29</td>\n",
       "    </tr>\n",
       "    <tr>\n",
       "      <th>2</th>\n",
       "      <td>BAGDAN 1LT SAFTALI MEYVE SIRESI S/Q</td>\n",
       "      <td>1.75</td>\n",
       "      <td>31</td>\n",
       "    </tr>\n",
       "    <tr>\n",
       "      <th>3</th>\n",
       "      <td>BIZIM TARLA 1LT ALBALI KOMPOTU S/Q</td>\n",
       "      <td>1.50</td>\n",
       "      <td>29</td>\n",
       "    </tr>\n",
       "    <tr>\n",
       "      <th>12</th>\n",
       "      <td>BIZIM TARLA 1LT QIRMIZI ALCA KOMPOTU S/Q</td>\n",
       "      <td>1.50</td>\n",
       "      <td>29</td>\n",
       "    </tr>\n",
       "    <tr>\n",
       "      <th>6</th>\n",
       "      <td>BIZIM TARLA 1LT FEYXOA KOMPOTU S/Q</td>\n",
       "      <td>1.50</td>\n",
       "      <td>45</td>\n",
       "    </tr>\n",
       "    <tr>\n",
       "      <th>16</th>\n",
       "      <td>BIZIM TARLA 1LT ZOGAL KOMPOTU S/Q</td>\n",
       "      <td>1.50</td>\n",
       "      <td>28</td>\n",
       "    </tr>\n",
       "    <tr>\n",
       "      <th>14</th>\n",
       "      <td>BIZIM TARLA 1LT YEMISANLI HEYVA KOMPOTU S/Q</td>\n",
       "      <td>1.50</td>\n",
       "      <td>37</td>\n",
       "    </tr>\n",
       "    <tr>\n",
       "      <th>13</th>\n",
       "      <td>BIZIM TARLA 1LT SAFTALI KOMPOTU S/Q</td>\n",
       "      <td>1.50</td>\n",
       "      <td>27</td>\n",
       "    </tr>\n",
       "    <tr>\n",
       "      <th>15</th>\n",
       "      <td>BIZIM TARLA 1LT YEMISHANLI+FEYXOA</td>\n",
       "      <td>1.50</td>\n",
       "      <td>31</td>\n",
       "    </tr>\n",
       "    <tr>\n",
       "      <th>10</th>\n",
       "      <td>BIZIM TARLA 1LT HEYVA KOMPOTU</td>\n",
       "      <td>1.50</td>\n",
       "      <td>28</td>\n",
       "    </tr>\n",
       "    <tr>\n",
       "      <th>9</th>\n",
       "      <td>BIZIM TARLA 1LT GOYEM KOMPOTU S/Q</td>\n",
       "      <td>1.50</td>\n",
       "      <td>26</td>\n",
       "    </tr>\n",
       "    <tr>\n",
       "      <th>8</th>\n",
       "      <td>BIZIM TARLA 1LT GILAS KOMPOTU S/Q</td>\n",
       "      <td>1.50</td>\n",
       "      <td>18</td>\n",
       "    </tr>\n",
       "    <tr>\n",
       "      <th>7</th>\n",
       "      <td>BIZIM TARLA 1LT GAVALI KOMPOTU S/Q</td>\n",
       "      <td>1.50</td>\n",
       "      <td>36</td>\n",
       "    </tr>\n",
       "    <tr>\n",
       "      <th>38</th>\n",
       "      <td>GILAN BAGDAN 1LT SARI GAVALI KOMPOTU</td>\n",
       "      <td>1.45</td>\n",
       "      <td>36</td>\n",
       "    </tr>\n",
       "    <tr>\n",
       "      <th>34</th>\n",
       "      <td>GILAN BAGDAN 1LT GAVALI KOMPOTU</td>\n",
       "      <td>1.45</td>\n",
       "      <td>34</td>\n",
       "    </tr>\n",
       "    <tr>\n",
       "      <th>5</th>\n",
       "      <td>BIZIM TARLA 1LT ERIK KOMPOTU S/Q</td>\n",
       "      <td>1.45</td>\n",
       "      <td>34</td>\n",
       "    </tr>\n",
       "    <tr>\n",
       "      <th>4</th>\n",
       "      <td>BIZIM TARLA 1LT BOGURTKEN KOMPOTU S/Q</td>\n",
       "      <td>1.45</td>\n",
       "      <td>29</td>\n",
       "    </tr>\n",
       "    <tr>\n",
       "      <th>30</th>\n",
       "      <td>GILAN BAGDAN 1LT ALBALI KOMPOTU</td>\n",
       "      <td>1.40</td>\n",
       "      <td>25</td>\n",
       "    </tr>\n",
       "    <tr>\n",
       "      <th>32</th>\n",
       "      <td>GILAN BAGDAN 1LT ERIK KOMPOTU</td>\n",
       "      <td>1.40</td>\n",
       "      <td>26</td>\n",
       "    </tr>\n",
       "    <tr>\n",
       "      <th>39</th>\n",
       "      <td>GILAN BAGDAN 1LT YEMISAN KOMPOTU</td>\n",
       "      <td>1.40</td>\n",
       "      <td>28</td>\n",
       "    </tr>\n",
       "    <tr>\n",
       "      <th>40</th>\n",
       "      <td>GILAN BAGDAN 1LT YEMISAN-FEYXOA KOMPOTU</td>\n",
       "      <td>1.40</td>\n",
       "      <td>32</td>\n",
       "    </tr>\n",
       "    <tr>\n",
       "      <th>37</th>\n",
       "      <td>GILAN BAGDAN 1LT SAFTALI KOMPOTU</td>\n",
       "      <td>1.40</td>\n",
       "      <td>31</td>\n",
       "    </tr>\n",
       "    <tr>\n",
       "      <th>36</th>\n",
       "      <td>GILAN BAGDAN 1LT HEYVA KOMPOTU</td>\n",
       "      <td>1.40</td>\n",
       "      <td>31</td>\n",
       "    </tr>\n",
       "    <tr>\n",
       "      <th>35</th>\n",
       "      <td>GILAN BAGDAN 1LT GOYEM KOMPOTU</td>\n",
       "      <td>1.40</td>\n",
       "      <td>37</td>\n",
       "    </tr>\n",
       "    <tr>\n",
       "      <th>33</th>\n",
       "      <td>GILAN BAGDAN 1LT FEYXOA KOMPOTU S/Q</td>\n",
       "      <td>1.40</td>\n",
       "      <td>31</td>\n",
       "    </tr>\n",
       "    <tr>\n",
       "      <th>31</th>\n",
       "      <td>GILAN BAGDAN 1LT BOYURTKEN KOMPOTU</td>\n",
       "      <td>1.40</td>\n",
       "      <td>37</td>\n",
       "    </tr>\n",
       "    <tr>\n",
       "      <th>29</th>\n",
       "      <td>GILAN BAGDAN 1L ALCA KOMPOTU</td>\n",
       "      <td>1.40</td>\n",
       "      <td>31</td>\n",
       "    </tr>\n",
       "    <tr>\n",
       "      <th>41</th>\n",
       "      <td>GILAN BAGDAN 1LT ZOGAL KOMPOTU</td>\n",
       "      <td>1.40</td>\n",
       "      <td>43</td>\n",
       "    </tr>\n",
       "    <tr>\n",
       "      <th>58</th>\n",
       "      <td>VITA 1000 1LT ZOGAL KOMPOTU S/Q</td>\n",
       "      <td>1.39</td>\n",
       "      <td>26</td>\n",
       "    </tr>\n",
       "    <tr>\n",
       "      <th>48</th>\n",
       "      <td>VITA 1000 1LT ALMA KOMPOTU S/Q</td>\n",
       "      <td>1.39</td>\n",
       "      <td>29</td>\n",
       "    </tr>\n",
       "    <tr>\n",
       "      <th>46</th>\n",
       "      <td>VITA 1000 1LT ALBALI KOMPOTU S/Q</td>\n",
       "      <td>1.39</td>\n",
       "      <td>30</td>\n",
       "    </tr>\n",
       "    <tr>\n",
       "      <th>49</th>\n",
       "      <td>VITA 1000 1LT BOYURTKEN KOMPOTU S/Q</td>\n",
       "      <td>1.39</td>\n",
       "      <td>32</td>\n",
       "    </tr>\n",
       "    <tr>\n",
       "      <th>50</th>\n",
       "      <td>VITA 1000 1LT CENNET ALMASI KOMPOTU S/Q</td>\n",
       "      <td>1.39</td>\n",
       "      <td>22</td>\n",
       "    </tr>\n",
       "    <tr>\n",
       "      <th>51</th>\n",
       "      <td>VITA 1000 1LT ERIK KOMPOTU S/Q</td>\n",
       "      <td>1.39</td>\n",
       "      <td>31</td>\n",
       "    </tr>\n",
       "    <tr>\n",
       "      <th>47</th>\n",
       "      <td>VITA 1000 1LT ALCA KOMPOTU S/Q</td>\n",
       "      <td>1.39</td>\n",
       "      <td>35</td>\n",
       "    </tr>\n",
       "    <tr>\n",
       "      <th>52</th>\n",
       "      <td>VITA 1000 1LT FEYXOA KOMPOTU S/Q</td>\n",
       "      <td>1.39</td>\n",
       "      <td>34</td>\n",
       "    </tr>\n",
       "    <tr>\n",
       "      <th>53</th>\n",
       "      <td>VITA 1000 1LT GAVALI KOMPOTU S/Q</td>\n",
       "      <td>1.39</td>\n",
       "      <td>33</td>\n",
       "    </tr>\n",
       "    <tr>\n",
       "      <th>54</th>\n",
       "      <td>VITA 1000 1LT GOYEM KOMPOTU S/Q</td>\n",
       "      <td>1.39</td>\n",
       "      <td>23</td>\n",
       "    </tr>\n",
       "    <tr>\n",
       "      <th>55</th>\n",
       "      <td>VITA 1000 1LT HEYVA KOMPOTU S/Q</td>\n",
       "      <td>1.39</td>\n",
       "      <td>36</td>\n",
       "    </tr>\n",
       "    <tr>\n",
       "      <th>56</th>\n",
       "      <td>VITA 1000 1LT SAFTALI KOMPOTU S/Q</td>\n",
       "      <td>1.39</td>\n",
       "      <td>28</td>\n",
       "    </tr>\n",
       "    <tr>\n",
       "      <th>43</th>\n",
       "      <td>ILKBAR 1LT KOMPOT HEYVA</td>\n",
       "      <td>1.35</td>\n",
       "      <td>33</td>\n",
       "    </tr>\n",
       "    <tr>\n",
       "      <th>19</th>\n",
       "      <td>BOSTAN 1LT BOYURTKEN KOMPOTU</td>\n",
       "      <td>1.33</td>\n",
       "      <td>21</td>\n",
       "    </tr>\n",
       "    <tr>\n",
       "      <th>20</th>\n",
       "      <td>BOSTAN 1LT ERIK KOMPOTU</td>\n",
       "      <td>1.33</td>\n",
       "      <td>22</td>\n",
       "    </tr>\n",
       "    <tr>\n",
       "      <th>18</th>\n",
       "      <td>BOSTAN 1LT ALBALI KOMPOTU</td>\n",
       "      <td>1.33</td>\n",
       "      <td>33</td>\n",
       "    </tr>\n",
       "    <tr>\n",
       "      <th>28</th>\n",
       "      <td>BOSTAN 1LT ZOGAL KOMPOTU</td>\n",
       "      <td>1.33</td>\n",
       "      <td>30</td>\n",
       "    </tr>\n",
       "    <tr>\n",
       "      <th>27</th>\n",
       "      <td>BOSTAN 1LT SAFTALI KOMPOTU</td>\n",
       "      <td>1.33</td>\n",
       "      <td>36</td>\n",
       "    </tr>\n",
       "    <tr>\n",
       "      <th>21</th>\n",
       "      <td>BOSTAN 1LT GAVALI KOMPOTU</td>\n",
       "      <td>1.33</td>\n",
       "      <td>33</td>\n",
       "    </tr>\n",
       "    <tr>\n",
       "      <th>22</th>\n",
       "      <td>BOSTAN 1LT GILAS KOMPOTU</td>\n",
       "      <td>1.33</td>\n",
       "      <td>34</td>\n",
       "    </tr>\n",
       "    <tr>\n",
       "      <th>24</th>\n",
       "      <td>BOSTAN 1LT HEYVA KOMPOTU</td>\n",
       "      <td>1.33</td>\n",
       "      <td>28</td>\n",
       "    </tr>\n",
       "    <tr>\n",
       "      <th>25</th>\n",
       "      <td>BOSTAN 1LT KOMPOTU FEYXOA S/Q</td>\n",
       "      <td>1.33</td>\n",
       "      <td>33</td>\n",
       "    </tr>\n",
       "    <tr>\n",
       "      <th>26</th>\n",
       "      <td>BOSTAN 1LT KOMPOTU YEMISEN-FEYXOA S/Q</td>\n",
       "      <td>1.33</td>\n",
       "      <td>30</td>\n",
       "    </tr>\n",
       "    <tr>\n",
       "      <th>23</th>\n",
       "      <td>BOSTAN 1LT GOYEM KOMPOTU</td>\n",
       "      <td>1.32</td>\n",
       "      <td>34</td>\n",
       "    </tr>\n",
       "    <tr>\n",
       "      <th>44</th>\n",
       "      <td>ILKBAR 1LT KOMPOT YEMISANLI FEYXOA</td>\n",
       "      <td>1.25</td>\n",
       "      <td>26</td>\n",
       "    </tr>\n",
       "    <tr>\n",
       "      <th>42</th>\n",
       "      <td>ILKBAR 1LT KOMPOT FEYXOA</td>\n",
       "      <td>1.25</td>\n",
       "      <td>27</td>\n",
       "    </tr>\n",
       "    <tr>\n",
       "      <th>45</th>\n",
       "      <td>ILKBAR 1LT KOMPOT ZOGAL</td>\n",
       "      <td>1.25</td>\n",
       "      <td>35</td>\n",
       "    </tr>\n",
       "  </tbody>\n",
       "</table>\n",
       "</div>"
      ],
      "text/plain": [
       "                                      mehsul_ad  mehsul_qiymet  satish_sayi\n",
       "17                 BIZIM TARLA 650ML NAR SIRESI           2.50           28\n",
       "1                     BAGDAN 1LT NAR SIRESI S/Q           2.15           31\n",
       "11         BIZIM TARLA 1LT KOMPOT 1+1 ENDIRIMLI           1.99           29\n",
       "57       VITA 1000 1LT SAFTALI MEYVE SIRESI S/Q           1.78           26\n",
       "0        BAGDAN 1LT MULTIMEYVE MEYVE SIRESI S/Q           1.75           29\n",
       "2           BAGDAN 1LT SAFTALI MEYVE SIRESI S/Q           1.75           31\n",
       "3            BIZIM TARLA 1LT ALBALI KOMPOTU S/Q           1.50           29\n",
       "12     BIZIM TARLA 1LT QIRMIZI ALCA KOMPOTU S/Q           1.50           29\n",
       "6            BIZIM TARLA 1LT FEYXOA KOMPOTU S/Q           1.50           45\n",
       "16            BIZIM TARLA 1LT ZOGAL KOMPOTU S/Q           1.50           28\n",
       "14  BIZIM TARLA 1LT YEMISANLI HEYVA KOMPOTU S/Q           1.50           37\n",
       "13          BIZIM TARLA 1LT SAFTALI KOMPOTU S/Q           1.50           27\n",
       "15            BIZIM TARLA 1LT YEMISHANLI+FEYXOA           1.50           31\n",
       "10                BIZIM TARLA 1LT HEYVA KOMPOTU           1.50           28\n",
       "9             BIZIM TARLA 1LT GOYEM KOMPOTU S/Q           1.50           26\n",
       "8             BIZIM TARLA 1LT GILAS KOMPOTU S/Q           1.50           18\n",
       "7            BIZIM TARLA 1LT GAVALI KOMPOTU S/Q           1.50           36\n",
       "38         GILAN BAGDAN 1LT SARI GAVALI KOMPOTU           1.45           36\n",
       "34              GILAN BAGDAN 1LT GAVALI KOMPOTU           1.45           34\n",
       "5              BIZIM TARLA 1LT ERIK KOMPOTU S/Q           1.45           34\n",
       "4         BIZIM TARLA 1LT BOGURTKEN KOMPOTU S/Q           1.45           29\n",
       "30              GILAN BAGDAN 1LT ALBALI KOMPOTU           1.40           25\n",
       "32                GILAN BAGDAN 1LT ERIK KOMPOTU           1.40           26\n",
       "39             GILAN BAGDAN 1LT YEMISAN KOMPOTU           1.40           28\n",
       "40      GILAN BAGDAN 1LT YEMISAN-FEYXOA KOMPOTU           1.40           32\n",
       "37             GILAN BAGDAN 1LT SAFTALI KOMPOTU           1.40           31\n",
       "36               GILAN BAGDAN 1LT HEYVA KOMPOTU           1.40           31\n",
       "35               GILAN BAGDAN 1LT GOYEM KOMPOTU           1.40           37\n",
       "33          GILAN BAGDAN 1LT FEYXOA KOMPOTU S/Q           1.40           31\n",
       "31           GILAN BAGDAN 1LT BOYURTKEN KOMPOTU           1.40           37\n",
       "29                 GILAN BAGDAN 1L ALCA KOMPOTU           1.40           31\n",
       "41               GILAN BAGDAN 1LT ZOGAL KOMPOTU           1.40           43\n",
       "58              VITA 1000 1LT ZOGAL KOMPOTU S/Q           1.39           26\n",
       "48               VITA 1000 1LT ALMA KOMPOTU S/Q           1.39           29\n",
       "46             VITA 1000 1LT ALBALI KOMPOTU S/Q           1.39           30\n",
       "49          VITA 1000 1LT BOYURTKEN KOMPOTU S/Q           1.39           32\n",
       "50      VITA 1000 1LT CENNET ALMASI KOMPOTU S/Q           1.39           22\n",
       "51               VITA 1000 1LT ERIK KOMPOTU S/Q           1.39           31\n",
       "47               VITA 1000 1LT ALCA KOMPOTU S/Q           1.39           35\n",
       "52             VITA 1000 1LT FEYXOA KOMPOTU S/Q           1.39           34\n",
       "53             VITA 1000 1LT GAVALI KOMPOTU S/Q           1.39           33\n",
       "54              VITA 1000 1LT GOYEM KOMPOTU S/Q           1.39           23\n",
       "55              VITA 1000 1LT HEYVA KOMPOTU S/Q           1.39           36\n",
       "56            VITA 1000 1LT SAFTALI KOMPOTU S/Q           1.39           28\n",
       "43                      ILKBAR 1LT KOMPOT HEYVA           1.35           33\n",
       "19                 BOSTAN 1LT BOYURTKEN KOMPOTU           1.33           21\n",
       "20                      BOSTAN 1LT ERIK KOMPOTU           1.33           22\n",
       "18                    BOSTAN 1LT ALBALI KOMPOTU           1.33           33\n",
       "28                     BOSTAN 1LT ZOGAL KOMPOTU           1.33           30\n",
       "27                   BOSTAN 1LT SAFTALI KOMPOTU           1.33           36\n",
       "21                    BOSTAN 1LT GAVALI KOMPOTU           1.33           33\n",
       "22                     BOSTAN 1LT GILAS KOMPOTU           1.33           34\n",
       "24                     BOSTAN 1LT HEYVA KOMPOTU           1.33           28\n",
       "25                BOSTAN 1LT KOMPOTU FEYXOA S/Q           1.33           33\n",
       "26        BOSTAN 1LT KOMPOTU YEMISEN-FEYXOA S/Q           1.33           30\n",
       "23                     BOSTAN 1LT GOYEM KOMPOTU           1.32           34\n",
       "44           ILKBAR 1LT KOMPOT YEMISANLI FEYXOA           1.25           26\n",
       "42                     ILKBAR 1LT KOMPOT FEYXOA           1.25           27\n",
       "45                      ILKBAR 1LT KOMPOT ZOGAL           1.25           35"
      ]
     },
     "execution_count": 5,
     "metadata": {},
     "output_type": "execute_result"
    }
   ],
   "source": [
    "kompot=mehsul[mehsul[\"mehsul_kateqoriya\"].str.contains(\"Komp\",na=False)]\n",
    "table2=kompot.groupby(\"mehsul_ad\").mean()[\"mehsul_qiymet\"]\n",
    "table3=kompot.groupby(\"mehsul_ad\").count()[\"satish_kodu\"]\n",
    "table_final=pd.concat([table2,table3],axis=1).reset_index()\n",
    "table_final.rename(columns={\"satish_kodu\": \"satish_sayi\"}).sort_values(\"mehsul_qiymet\",ascending=False)"
   ]
  },
  {
   "cell_type": "markdown",
   "metadata": {},
   "source": [
    "### Tapşrıq 9.\n",
    "\n",
    "Ötən ilki Novruz endirim kompaniyamıza baxaq, görək, müştərilər daha çox hansı kateqoriyadan olan məhsulları alıblar, bu il də onlara üstünlük verək. Mmm, yaxşı olardı ki, hansı məhsullarla birlikdə, bu məhsullar hansı filiallarımızdan nə qədər alınıb, bunu da bilək ki, həmin filiallara o məhsulları daha çox stoklayaq. Müəllim, bu ikisini zəhmət olmasa, birlikdə bizə asan başa düşülən qrafik şəklində hazırlayardız.\n"
   ]
  },
  {
   "cell_type": "code",
   "execution_count": 10,
   "metadata": {},
   "outputs": [
    {
     "data": {
      "text/plain": [
       "<matplotlib.axes._subplots.AxesSubplot at 0x2a5919c6dc8>"
      ]
     },
     "execution_count": 10,
     "metadata": {},
     "output_type": "execute_result"
    },
    {
     "data": {
      "image/png": "[encoded data removed]",
      "text/plain": [
       "<Figure size 1080x720 with 1 Axes>"
      ]
     },
     "metadata": {
      "needs_background": "light"
     },
     "output_type": "display_data"
    }
   ],
   "source": [
    "import seaborn as sns\n",
    "novruz=mehsul[mehsul[\"endirim_kompaniya\"].str.contains(\"Novruz\",na=False)]\n",
    "novruz_mehsul=novruz.groupby([\"magaza_ad\",\"mehsul_kateqoriya\"]).size().reset_index()\n",
    "novruz_mehsul.rename(columns={0:\"mehsul_sayi\"},inplace=True)\n",
    "dfpivot=novruz_mehsul.pivot(index=\"magaza_ad\",columns=\"mehsul_kateqoriya\",values=\"mehsul_sayi\")\n",
    "dfpivot.plot(kind=\"bar\",figsize=(15,10))"
   ]
  },
  {
   "cell_type": "markdown",
   "metadata": {},
   "source": [
    "### Tapşrıq 11.\n",
    "\n",
    "Bu sevindiricidirki, müştərilərimizin əksəriyyəti bonus kartdan istifadə edir, lakin bəzi marketlərimdə bonus kartla alış – veriş edənlərin sayı azdır. Bütün marketlərimiz üzrə il ərzində bonus kartla satış sayını və mağaza adlarını bir cədvəldə hazırlayın. Bonus kartla satış sayını azdan çoxa sıralayın ki, az olan marketlərimizdə bonus karta cəlb edən reklam lövhələri asaq.\n"
   ]
  },
  {
   "cell_type": "code",
   "execution_count": null,
   "metadata": {},
   "outputs": [],
   "source": [
    "bonus=mehsul[mehsul[\"bonus_kart\"]==True]\n",
    "bonus=bonus.groupby(\"magaza_ad\").count()[\"satish_kodu\"].to_frame().reset_index().sort_values(by=\"satish_kodu\",ascending=True)\n",
    "bonus.rename(columns={\"satish_kodu\":\"bonuslu_satish_sayi\"},inplace=True)\n",
    "bonus"
   ]
  },
  {
   "cell_type": "markdown",
   "metadata": {},
   "source": [
    "### Tapşrıq 12.\n",
    "\n",
    "Zəhmət olmasa,radiozavod mağazamızda il ərzində 40+ azn alış-veriş edən müştərilərin sayının aylardan asılılığını qrafik şəklində göstərin."
   ]
  },
  {
   "cell_type": "code",
   "execution_count": 17,
   "metadata": {},
   "outputs": [
    {
     "name": "stderr",
     "output_type": "stream",
     "text": [
      "C:\\Users\\HP\\anaconda3\\lib\\site-packages\\ipykernel_launcher.py:4: SettingWithCopyWarning: \n",
      "A value is trying to be set on a copy of a slice from a DataFrame.\n",
      "Try using .loc[row_indexer,col_indexer] = value instead\n",
      "\n",
      "See the caveats in the documentation: https://pandas.pydata.org/pandas-docs/stable/user_guide/indexing.html#returning-a-view-versus-a-copy\n",
      "  after removing the cwd from sys.path.\n"
     ]
    },
    {
     "data": {
      "text/plain": [
       "<matplotlib.axes._subplots.AxesSubplot at 0x2a8c06ac088>"
      ]
     },
     "execution_count": 17,
     "metadata": {},
     "output_type": "execute_result"
    },
    {
     "data": {
      "image/png": "[encoded data removed]",
      "text/plain": [
       "<Figure size 720x360 with 1 Axes>"
      ]
     },
     "metadata": {
      "needs_background": "light"
     },
     "output_type": "display_data"
    }
   ],
   "source": [
    "radiozavod=mehsul[mehsul[\"magaza_ad\"].str.contains(\"Radio\")]\n",
    "radiozavod40=radiozavod[radiozavod[\"mehsul_qiymet\"]>40.00]\n",
    "radiozavod40.groupby(\"satish_kodu\").sum()[\"mehsul_qiymet\"].reset_index()\n",
    "radiozavod40[\"satish_tarixi\"]=pd.to_datetime(radiozavod40[\"satish_tarixi\"])\n",
    "radiozavod40=radiozavod40.set_index(\"satish_tarixi\")\n",
    "plt.rcParams['figure.figsize'] = (10, 5)\n",
    "radiozavod40.satish_kodu.resample('M').count().plot(kind='line',title=\"40+ azn alış-veriş edən müştərilərin sayının aylardan asılılığı \")\n"
   ]
  },
  {
   "cell_type": "markdown",
   "metadata": {},
   "source": [
    "### Tapşrıq 13.\n",
    "\n",
    "Mənə elə gəlir ki, əksər müştərilərimiz daha ucuz məhsullar aldıqda bonus kartdan istifadəyə elə də maraqlı deyillər. Zəhmət olmasa, məhsul qiyməti ilə bonus kartı arasında hər hansı korrelyasiya olub-olmadığını mənə bildirin."
   ]
  },
  {
   "cell_type": "code",
   "execution_count": 47,
   "metadata": {},
   "outputs": [
    {
     "name": "stdout",
     "output_type": "stream",
     "text": [
      "Correlation is  0.002914287845073361 which shows that bonus and mehsulqiymet have weak corrrelation\n"
     ]
    }
   ],
   "source": [
    "correlation = mehsul.mehsul_qiymet.corr(mehsul.bonus_kart,method='pearson') \n",
    "print(\"Correlation is \",correlation,\"which shows that bonus and mehsulqiymet have weak corrrelation\")"
   ]
  },
  {
   "cell_type": "markdown",
   "metadata": {},
   "source": [
    "### Tapşrıq 14.\n",
    "\n",
    "Bütün filiallarımızın fasadına hər kateqoriyadan bir məhsul olmaqla məhsullarımızın reklam lövhələrini quraşdıracağıq, lakin daha faydalı olar ki, ötən il ərzində hər bir filialımızdan hər bir kateqoriya üzrə ən çox hansı məhsul alınıbsa, həmin filialımızın reklam lövhəsinə o məhsulu əlavə edək."
   ]
  },
  {
   "cell_type": "code",
   "execution_count": 4,
   "metadata": {},
   "outputs": [
    {
     "data": {
      "text/html": [
       "<div>\n",
       "<style scoped>\n",
       "    .dataframe tbody tr th:only-of-type {\n",
       "        vertical-align: middle;\n",
       "    }\n",
       "\n",
       "    .dataframe tbody tr th {\n",
       "        vertical-align: top;\n",
       "    }\n",
       "\n",
       "    .dataframe thead th {\n",
       "        text-align: right;\n",
       "    }\n",
       "</style>\n",
       "<table border=\"1\" class=\"dataframe\">\n",
       "  <thead>\n",
       "    <tr style=\"text-align: right;\">\n",
       "      <th></th>\n",
       "      <th></th>\n",
       "      <th>mehsul_ad</th>\n",
       "    </tr>\n",
       "    <tr>\n",
       "      <th>magaza_ad</th>\n",
       "      <th>mehsul_kateqoriya</th>\n",
       "      <th></th>\n",
       "    </tr>\n",
       "  </thead>\n",
       "  <tbody>\n",
       "    <tr>\n",
       "      <th rowspan=\"10\" valign=\"top\">20 yanvar</th>\n",
       "      <th>Araq</th>\n",
       "      <td>XAN 0.7LT ARAQ CINAR</td>\n",
       "    </tr>\n",
       "    <tr>\n",
       "      <th>Avto</th>\n",
       "      <td>AIR FRESHENERS - 104  AVTO TERAVETLENDIRICI</td>\n",
       "    </tr>\n",
       "    <tr>\n",
       "      <th>Ayaqqabı ləvazimatları</th>\n",
       "      <td>SILVER EXPRESS 6ML QUBKA-BLESK RENGSIZ</td>\n",
       "    </tr>\n",
       "    <tr>\n",
       "      <th>Ayran</th>\n",
       "      <td>MPRO S.D. 900ML AYRAN 1.5% T/P</td>\n",
       "    </tr>\n",
       "    <tr>\n",
       "      <th>Batareya</th>\n",
       "      <td>GP ALKALINE BATAREYA 2LI A76-2C2</td>\n",
       "    </tr>\n",
       "    <tr>\n",
       "      <th>Bayram aksessuarları</th>\n",
       "      <td>PAP STAR PARTY FEELINGS SAM REQEM.19302</td>\n",
       "    </tr>\n",
       "    <tr>\n",
       "      <th>Corablar</th>\n",
       "      <td>SARDUNYA CORAB</td>\n",
       "    </tr>\n",
       "    <tr>\n",
       "      <th>Diabetik</th>\n",
       "      <td>PETRODIET 300GR SUSHKI S MAKOM NA SORBITE</td>\n",
       "    </tr>\n",
       "    <tr>\n",
       "      <th>Dondurma</th>\n",
       "      <td>DONDURMA LAZZMASTER 85GR KLASSIK PLOMBIR SOKOL...</td>\n",
       "    </tr>\n",
       "    <tr>\n",
       "      <th>Dondurulmuş məhsullar</th>\n",
       "      <td>S PILU S JARU 420GR BLINCIKI S TVOROQOM 6LI</td>\n",
       "    </tr>\n",
       "  </tbody>\n",
       "</table>\n",
       "</div>"
      ],
      "text/plain": [
       "                                                                            mehsul_ad\n",
       "magaza_ad mehsul_kateqoriya                                                          \n",
       "20 yanvar  Araq                                                  XAN 0.7LT ARAQ CINAR\n",
       "           Avto                           AIR FRESHENERS - 104  AVTO TERAVETLENDIRICI\n",
       "           Ayaqqabı ləvazimatları              SILVER EXPRESS 6ML QUBKA-BLESK RENGSIZ\n",
       "           Ayran                                       MPRO S.D. 900ML AYRAN 1.5% T/P\n",
       "           Batareya                                  GP ALKALINE BATAREYA 2LI A76-2C2\n",
       "           Bayram aksessuarları               PAP STAR PARTY FEELINGS SAM REQEM.19302\n",
       "           Corablar                                                    SARDUNYA CORAB\n",
       "           Diabetik                         PETRODIET 300GR SUSHKI S MAKOM NA SORBITE\n",
       "           Dondurma                 DONDURMA LAZZMASTER 85GR KLASSIK PLOMBIR SOKOL...\n",
       "           Dondurulmuş məhsullar          S PILU S JARU 420GR BLINCIKI S TVOROQOM 6LI"
      ]
     },
     "execution_count": 4,
     "metadata": {},
     "output_type": "execute_result"
    }
   ],
   "source": [
    "df=mehsul.groupby([\"magaza_ad\",\"mehsul_kateqoriya\"])[\"mehsul_ad\"].agg(lambda x:x.value_counts().index[0]).to_frame()\n",
    "df.head(10)\n"
   ]
  },
  {
   "cell_type": "markdown",
   "metadata": {},
   "source": [
    "### Tapşrıq 15.\n",
    "\n",
    "Bildiyiniz kimi, keçən il Azgranata şirkəti ilə tərəfdaşlıq müqaviləsi imzalaşıq ki, bu müqaviləyə əsasən ötən il mağazalarımızda VITA 1000 şirələrinin satışını həyata keçirdik. Bu ilki sifariş sayını müəyyənləşdirmək üçün ötənilki məlumatlardan istifadə labüddür, zəhmət olmasa Meyvə Şirələri kateqoriyası üzrə ümumi satışın neçə faizinin VITA 1000 şirələrinin payına düşdüyünü piechart şəklində göstərin. Lakin diqqətli olun, digər məhsulların daxilində də VITA sözü mövcud olduğundan yanlış nəticə ola bilər, bizə yalnız VITA 1000 şirələrinin satış faizi gərəklidir."
   ]
  },
  {
   "cell_type": "code",
   "execution_count": 6,
   "metadata": {},
   "outputs": [
    {
     "data": {
      "text/plain": [
       "([<matplotlib.patches.Wedge at 0x11a4f3af048>,\n",
       "  <matplotlib.patches.Wedge at 0x11a4f3af808>],\n",
       " [Text(-0.10006221962656271, -1.2459885842989917, 'Diger meyve sireleri'),\n",
       "  Text(0.08805463778008275, 1.0964699634579227, 'VITA 1000 sireleri')],\n",
       " [Text(-0.06003733177593762, -0.7475931505793949, '97.4%'),\n",
       "  Text(0.04802980242549968, 0.5980745255225033, '2.6%')])"
      ]
     },
     "execution_count": 6,
     "metadata": {},
     "output_type": "execute_result"
    },
    {
     "data": {
      "image/png": "[encoded data removed]",
      "text/plain": [
       "<Figure size 432x288 with 1 Axes>"
      ]
     },
     "metadata": {},
     "output_type": "display_data"
    }
   ],
   "source": [
    "meyve_siresi=mehsul[mehsul[\"mehsul_kateqoriya\"].str.contains(\"Meyvə\")]\n",
    "vita1000=meyve_siresi[meyve_siresi.mehsul_ad.str.contains(\"VITA\"and\"1000\")]\n",
    "sire=meyve_siresi[\"mehsul_qiymet\"].sum()\n",
    "vita=vita1000[\"mehsul_qiymet\"].sum()\n",
    "proportions = [sire,vita]\n",
    "plt.pie(proportions,labels = ['Diger meyve sireleri', 'VITA 1000 sireleri'],\n",
    "    shadow = False,    colors = ['blue','red'],explode = (0.15 , 0),    startangle = 90,    autopct = '%1.1f%%')\n",
    "    \n"
   ]
  },
  {
   "cell_type": "markdown",
   "metadata": {},
   "source": [
    "### Tapşrıq 16.\n",
    "\n",
    "Datasetdə satış tarixlərindən istifadə edərək, həftə günlərini müəyyən edə bilərsiz? Elə yaxşı olar ki, yeni sütun olaraq həftə günləri yaradasız."
   ]
  },
  {
   "cell_type": "code",
   "execution_count": 19,
   "metadata": {},
   "outputs": [
    {
     "data": {
      "text/plain": [
       "0           Friday\n",
       "1           Friday\n",
       "2           Friday\n",
       "3           Friday\n",
       "4           Friday\n",
       "            ...   \n",
       "438821      Sunday\n",
       "438822    Thursday\n",
       "438823    Thursday\n",
       "438824    Thursday\n",
       "438825    Thursday\n",
       "Name: heftegunu, Length: 438826, dtype: object"
      ]
     },
     "execution_count": 19,
     "metadata": {},
     "output_type": "execute_result"
    }
   ],
   "source": [
    "from datetime import datetime\n",
    "mehsul[\"satish_tarixi\"]=pd.to_datetime(mehsul[\"satish_tarixi\"])\n",
    "mehsul[\"heftegunu\"]=mehsul.satish_tarixi.dt.strftime(\"%A\")\n",
    "mehsul[\"heftegunu\"]\n"
   ]
  },
  {
   "cell_type": "markdown",
   "metadata": {},
   "source": [
    "### Tapşrıq 17.\n",
    "\n",
    "Bizim 24 saat açıq filiallarımızda gecə kifayət qədər satış yoxdursa gecə növbəsin ləğv edək. Zəhmət olmasa, ümumilikdə il ərzində gecə 23:00-dan səhər 06:00 -a qədərhansı marketimizdə neçə manatlıq satış olduğunu bizə qrafik şəklində göstərin. Yaxşı olardı ki, qrafikdə mağazalar satış nəticələrinə görə üç kateqoriyaya : yaxşı, orta, pis olaraq bölünsün."
   ]
  },
  {
   "cell_type": "code",
   "execution_count": null,
   "metadata": {},
   "outputs": [],
   "source": [
    "mehsul=mehsul.set_index(\"satish_tarixi\")\n",
    "mehsul.between_time('23:00','06:00').groupby(\"magaza_ad\").sum()[\"mehsul_qiymet\"].plot(kind=\"bar\",figsize=(15,10))\n"
   ]
  },
  {
   "cell_type": "markdown",
   "metadata": {},
   "source": [
    "### Tapşrıq 18.\n",
    "\n",
    "Endirim kampaniyaları çərçivəsində hansı məhsul kateqoriyası liderlik edib? Zəhmət olmasa, hər bir kampaniya üçün ayrılıqda olmaqla məsələni həll edin"
   ]
  },
  {
   "cell_type": "code",
   "execution_count": 29,
   "metadata": {},
   "outputs": [
    {
     "data": {
      "text/html": [
       "<div>\n",
       "<style scoped>\n",
       "    .dataframe tbody tr th:only-of-type {\n",
       "        vertical-align: middle;\n",
       "    }\n",
       "\n",
       "    .dataframe tbody tr th {\n",
       "        vertical-align: top;\n",
       "    }\n",
       "\n",
       "    .dataframe thead th {\n",
       "        text-align: right;\n",
       "    }\n",
       "</style>\n",
       "<table border=\"1\" class=\"dataframe\">\n",
       "  <thead>\n",
       "    <tr style=\"text-align: right;\">\n",
       "      <th></th>\n",
       "      <th>mehsul_kateqoriya</th>\n",
       "    </tr>\n",
       "    <tr>\n",
       "      <th>endirim_kompaniya</th>\n",
       "      <th></th>\n",
       "    </tr>\n",
       "  </thead>\n",
       "  <tbody>\n",
       "    <tr>\n",
       "      <th>Bərəkətli Novruz</th>\n",
       "      <td>Şirniyyat</td>\n",
       "    </tr>\n",
       "    <tr>\n",
       "      <th>Payız endirimləri</th>\n",
       "      <td>Şirniyyat</td>\n",
       "    </tr>\n",
       "    <tr>\n",
       "      <th>Sərfəli Yaz</th>\n",
       "      <td>Şirniyyat</td>\n",
       "    </tr>\n",
       "    <tr>\n",
       "      <th>Sərin Yay günləri</th>\n",
       "      <td>Şirniyyat</td>\n",
       "    </tr>\n",
       "    <tr>\n",
       "      <th>Yeni il fürsətləri</th>\n",
       "      <td>Şirniyyat</td>\n",
       "    </tr>\n",
       "  </tbody>\n",
       "</table>\n",
       "</div>"
      ],
      "text/plain": [
       "                   mehsul_kateqoriya\n",
       "endirim_kompaniya                   \n",
       "Bərəkətli Novruz          Şirniyyat \n",
       "Payız endirimləri         Şirniyyat \n",
       "Sərfəli Yaz               Şirniyyat \n",
       "Sərin Yay günləri         Şirniyyat \n",
       "Yeni il fürsətləri        Şirniyyat "
      ]
     },
     "execution_count": 29,
     "metadata": {},
     "output_type": "execute_result"
    }
   ],
   "source": [
    "mehsul.groupby(\"endirim_kompaniya\")[\"mehsul_kateqoriya\"].agg(lambda x:x.value_counts().index[0]).to_frame()\n",
    "\n"
   ]
  },
  {
   "cell_type": "markdown",
   "metadata": {},
   "source": [
    "### Tapşrıq 19.\n",
    "\n",
    "Ümumi il ərzində üzrə ən çox satış hansı mağazada reallaşıb?"
   ]
  },
  {
   "cell_type": "code",
   "execution_count": 119,
   "metadata": {},
   "outputs": [
    {
     "data": {
      "text/html": [
       "<div>\n",
       "<style scoped>\n",
       "    .dataframe tbody tr th:only-of-type {\n",
       "        vertical-align: middle;\n",
       "    }\n",
       "\n",
       "    .dataframe tbody tr th {\n",
       "        vertical-align: top;\n",
       "    }\n",
       "\n",
       "    .dataframe thead th {\n",
       "        text-align: right;\n",
       "    }\n",
       "</style>\n",
       "<table border=\"1\" class=\"dataframe\">\n",
       "  <thead>\n",
       "    <tr style=\"text-align: right;\">\n",
       "      <th></th>\n",
       "      <th>magaza_ad</th>\n",
       "      <th>satish_deyeri</th>\n",
       "    </tr>\n",
       "  </thead>\n",
       "  <tbody>\n",
       "    <tr>\n",
       "      <th>0</th>\n",
       "      <td>Həzi Aslanov-2</td>\n",
       "      <td>124951.53</td>\n",
       "    </tr>\n",
       "    <tr>\n",
       "      <th>1</th>\n",
       "      <td>N.Nərimanov</td>\n",
       "      <td>123949.24</td>\n",
       "    </tr>\n",
       "    <tr>\n",
       "      <th>2</th>\n",
       "      <td>Əhmədli</td>\n",
       "      <td>122992.90</td>\n",
       "    </tr>\n",
       "    <tr>\n",
       "      <th>3</th>\n",
       "      <td>M. Əcəmi</td>\n",
       "      <td>122541.97</td>\n",
       "    </tr>\n",
       "    <tr>\n",
       "      <th>4</th>\n",
       "      <td>Yasamal</td>\n",
       "      <td>122380.08</td>\n",
       "    </tr>\n",
       "    <tr>\n",
       "      <th>5</th>\n",
       "      <td>Xalqlar dostluğu</td>\n",
       "      <td>121773.19</td>\n",
       "    </tr>\n",
       "    <tr>\n",
       "      <th>6</th>\n",
       "      <td>28-May</td>\n",
       "      <td>121706.06</td>\n",
       "    </tr>\n",
       "    <tr>\n",
       "      <th>7</th>\n",
       "      <td>Yeni Yasamal</td>\n",
       "      <td>121519.07</td>\n",
       "    </tr>\n",
       "    <tr>\n",
       "      <th>8</th>\n",
       "      <td>C. Məmmədquluzadə</td>\n",
       "      <td>121329.87</td>\n",
       "    </tr>\n",
       "    <tr>\n",
       "      <th>9</th>\n",
       "      <td>Nərimanov-2</td>\n",
       "      <td>121203.39</td>\n",
       "    </tr>\n",
       "    <tr>\n",
       "      <th>10</th>\n",
       "      <td>Xırdalan</td>\n",
       "      <td>120911.47</td>\n",
       "    </tr>\n",
       "    <tr>\n",
       "      <th>11</th>\n",
       "      <td>Maşın bazarı</td>\n",
       "      <td>120558.04</td>\n",
       "    </tr>\n",
       "    <tr>\n",
       "      <th>12</th>\n",
       "      <td>Həzi Aslanov-1</td>\n",
       "      <td>120502.07</td>\n",
       "    </tr>\n",
       "    <tr>\n",
       "      <th>13</th>\n",
       "      <td>Badamdar</td>\n",
       "      <td>120435.53</td>\n",
       "    </tr>\n",
       "    <tr>\n",
       "      <th>14</th>\n",
       "      <td>Zabrat</td>\n",
       "      <td>120389.71</td>\n",
       "    </tr>\n",
       "    <tr>\n",
       "      <th>15</th>\n",
       "      <td>Xətai</td>\n",
       "      <td>119595.47</td>\n",
       "    </tr>\n",
       "    <tr>\n",
       "      <th>16</th>\n",
       "      <td>20 yanvar</td>\n",
       "      <td>119316.44</td>\n",
       "    </tr>\n",
       "    <tr>\n",
       "      <th>17</th>\n",
       "      <td>Radiozavod</td>\n",
       "      <td>119020.96</td>\n",
       "    </tr>\n",
       "    <tr>\n",
       "      <th>18</th>\n",
       "      <td>Hipermarket</td>\n",
       "      <td>117808.29</td>\n",
       "    </tr>\n",
       "    <tr>\n",
       "      <th>19</th>\n",
       "      <td>Ayna Sultanova</td>\n",
       "      <td>117498.12</td>\n",
       "    </tr>\n",
       "    <tr>\n",
       "      <th>20</th>\n",
       "      <td>8 mkr</td>\n",
       "      <td>116009.00</td>\n",
       "    </tr>\n",
       "  </tbody>\n",
       "</table>\n",
       "</div>"
      ],
      "text/plain": [
       "            magaza_ad  satish_deyeri\n",
       "0      Həzi Aslanov-2      124951.53\n",
       "1         N.Nərimanov      123949.24\n",
       "2             Əhmədli      122992.90\n",
       "3            M. Əcəmi      122541.97\n",
       "4             Yasamal      122380.08\n",
       "5    Xalqlar dostluğu      121773.19\n",
       "6              28-May      121706.06\n",
       "7        Yeni Yasamal      121519.07\n",
       "8   C. Məmmədquluzadə      121329.87\n",
       "9         Nərimanov-2      121203.39\n",
       "10           Xırdalan      120911.47\n",
       "11       Maşın bazarı      120558.04\n",
       "12     Həzi Aslanov-1      120502.07\n",
       "13           Badamdar      120435.53\n",
       "14             Zabrat      120389.71\n",
       "15              Xətai      119595.47\n",
       "16          20 yanvar      119316.44\n",
       "17         Radiozavod      119020.96\n",
       "18        Hipermarket      117808.29\n",
       "19     Ayna Sultanova      117498.12\n",
       "20              8 mkr      116009.00"
      ]
     },
     "execution_count": 119,
     "metadata": {},
     "output_type": "execute_result"
    }
   ],
   "source": [
    "mehsul.groupby(\"magaza_ad\").sum()[\"mehsul_qiymet\"].sort_values(ascending=False).reset_index().rename(columns={\"mehsul_qiymet\":\"satish_deyeri\"})\n",
    "#len(mehsul.satish_kodu)\n",
    "#s=s.to_frame()\n",
    "#s.sum()438826"
   ]
  },
  {
   "cell_type": "markdown",
   "metadata": {},
   "source": [
    "### Tapşrıq 20.\n",
    "\n",
    "2019-cu il ərzində aylar üzrə ortalama satışın göstəriciləri neçədir?"
   ]
  },
  {
   "cell_type": "code",
   "execution_count": 33,
   "metadata": {},
   "outputs": [
    {
     "data": {
      "text/html": [
       "<div>\n",
       "<style scoped>\n",
       "    .dataframe tbody tr th:only-of-type {\n",
       "        vertical-align: middle;\n",
       "    }\n",
       "\n",
       "    .dataframe tbody tr th {\n",
       "        vertical-align: top;\n",
       "    }\n",
       "\n",
       "    .dataframe thead th {\n",
       "        text-align: right;\n",
       "    }\n",
       "</style>\n",
       "<table border=\"1\" class=\"dataframe\">\n",
       "  <thead>\n",
       "    <tr style=\"text-align: right;\">\n",
       "      <th></th>\n",
       "      <th>satish_deyeri</th>\n",
       "    </tr>\n",
       "    <tr>\n",
       "      <th>satish_tarixi</th>\n",
       "      <th></th>\n",
       "    </tr>\n",
       "  </thead>\n",
       "  <tbody>\n",
       "    <tr>\n",
       "      <th>2019-01-31</th>\n",
       "      <td>239610.43</td>\n",
       "    </tr>\n",
       "    <tr>\n",
       "      <th>2019-02-28</th>\n",
       "      <td>220552.41</td>\n",
       "    </tr>\n",
       "    <tr>\n",
       "      <th>2019-03-31</th>\n",
       "      <td>243054.03</td>\n",
       "    </tr>\n",
       "    <tr>\n",
       "      <th>2019-04-30</th>\n",
       "      <td>230158.52</td>\n",
       "    </tr>\n",
       "    <tr>\n",
       "      <th>2019-05-31</th>\n",
       "      <td>238731.58</td>\n",
       "    </tr>\n",
       "    <tr>\n",
       "      <th>2019-06-30</th>\n",
       "      <td>235930.37</td>\n",
       "    </tr>\n",
       "    <tr>\n",
       "      <th>2019-07-31</th>\n",
       "      <td>239202.53</td>\n",
       "    </tr>\n",
       "    <tr>\n",
       "      <th>2019-08-31</th>\n",
       "      <td>245141.08</td>\n",
       "    </tr>\n",
       "    <tr>\n",
       "      <th>2019-09-30</th>\n",
       "      <td>235464.42</td>\n",
       "    </tr>\n",
       "    <tr>\n",
       "      <th>2019-10-31</th>\n",
       "      <td>239285.05</td>\n",
       "    </tr>\n",
       "    <tr>\n",
       "      <th>2019-11-30</th>\n",
       "      <td>85109.59</td>\n",
       "    </tr>\n",
       "    <tr>\n",
       "      <th>2019-12-31</th>\n",
       "      <td>84152.39</td>\n",
       "    </tr>\n",
       "  </tbody>\n",
       "</table>\n",
       "</div>"
      ],
      "text/plain": [
       "               satish_deyeri\n",
       "satish_tarixi               \n",
       "2019-01-31         239610.43\n",
       "2019-02-28         220552.41\n",
       "2019-03-31         243054.03\n",
       "2019-04-30         230158.52\n",
       "2019-05-31         238731.58\n",
       "2019-06-30         235930.37\n",
       "2019-07-31         239202.53\n",
       "2019-08-31         245141.08\n",
       "2019-09-30         235464.42\n",
       "2019-10-31         239285.05\n",
       "2019-11-30          85109.59\n",
       "2019-12-31          84152.39"
      ]
     },
     "execution_count": 33,
     "metadata": {},
     "output_type": "execute_result"
    }
   ],
   "source": [
    "mehsul.mehsul_qiymet.resample(\"M\").sum().to_frame().rename(columns={\"mehsul_qiymet\":\"satish_deyeri\"})\n",
    "\n"
   ]
  },
  {
   "cell_type": "markdown",
   "metadata": {},
   "source": [
    "### Tapşrıq 21.\n",
    "\n",
    "Bonus kartı olan və olmayan müştərilər üzrə ortalama satış miqdarı neçədir?"
   ]
  },
  {
   "cell_type": "code",
   "execution_count": 79,
   "metadata": {},
   "outputs": [
    {
     "name": "stdout",
     "output_type": "stream",
     "text": [
      "1268975.23  |   1267417.1699999997\n"
     ]
    }
   ],
   "source": [
    "bonusyes=mehsul[mehsul[\"bonus_kart\"]==True]\n",
    "bonusno=mehsul[mehsul[\"bonus_kart\"]==False]\n",
    "val1=bonusyes.mehsul_qiymet.sum()\n",
    "val2=bonusno.mehsul_qiymet.sum()\n"
   ]
  },
  {
   "cell_type": "markdown",
   "metadata": {},
   "source": [
    "### Tapşrıq 22.\n",
    "\n",
    "Keçən il mağazalarımıza mütamadi çörək təchizatı ilə bağlı problem yaşayırdıq. Bir çox halarda, müştərilərin çox olan vaxtında artıq çörəklər bitmiş olur, bəzən isə uyğun olmayan vaxtda gətirilən çörəklər növbəti günə qalırdı. Bu il bu problemin yaranmasını istəmirəm, zəhmət olmasa ötən il hər bir filial üzrə 3 saatdan bir neçə çörək satıldığını qrafik və ya cədvəl şəklində hazırlayın."
   ]
  },
  {
   "cell_type": "code",
   "execution_count": null,
   "metadata": {},
   "outputs": [],
   "source": [
    "from datetime import timedelta\n",
    "df=mehsul[mehsul[\"mehsul_kateqoriya\"].str.contains(\"Çör\")]\n",
    "df=df.reset_index()\n",
    "df.groupby([\"magaza_ad\",df.satish_tarixi.dt.Timedelta(\"3H\")]).sum()[\"mehsul_qiymet\"]\n"
   ]
  },
  {
   "cell_type": "code",
   "execution_count": null,
   "metadata": {},
   "outputs": [],
   "source": []
  }
 ],
 "metadata": {
  "kernelspec": {
   "display_name": "Python 3",
   "language": "python",
   "name": "python3"
  },
  "language_info": {
   "codemirror_mode": {
    "name": "ipython",
    "version": 3
   },
   "file_extension": ".py",
   "mimetype": "text/x-python",
   "name": "python",
   "nbconvert_exporter": "python",
   "pygments_lexer": "ipython3",
   "version": "3.7.6"
  }
 },
 "nbformat": 4,
 "nbformat_minor": 4
}
